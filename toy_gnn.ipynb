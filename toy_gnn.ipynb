{
  "nbformat": 4,
  "nbformat_minor": 0,
  "metadata": {
    "colab": {
      "provenance": [],
      "machine_shape": "hm",
      "gpuType": "A100",
      "authorship_tag": "ABX9TyNywt9zfdzm1PfLuzQLXjiS",
      "include_colab_link": true
    },
    "kernelspec": {
      "name": "python3",
      "display_name": "Python 3"
    },
    "language_info": {
      "name": "python"
    },
    "accelerator": "GPU"
  },
  "cells": [
    {
      "cell_type": "markdown",
      "metadata": {
        "id": "view-in-github",
        "colab_type": "text"
      },
      "source": [
        "<a href=\"https://colab.research.google.com/github/FlyingWorkshop/DiffusionGNNTutorial/blob/main/toy_gnn.ipynb\" target=\"_parent\"><img src=\"https://colab.research.google.com/assets/colab-badge.svg\" alt=\"Open In Colab\"/></a>"
      ]
    },
    {
      "cell_type": "markdown",
      "source": [
        "Task: implement a GNN to predict one (invariant) molecular feature (e.g. molecular weight) of the molecules in the QM9 data set"
      ],
      "metadata": {
        "id": "MZvzr3ZP-vVf"
      }
    },
    {
      "cell_type": "code",
      "source": [
        "!pip install torch_geometric\n",
        "!pip install rdkit"
      ],
      "metadata": {
        "id": "NG8A4eALA366",
        "colab": {
          "base_uri": "https://localhost:8080/"
        },
        "outputId": "5c6f2959-77a2-4270-c0fb-0076597d5c6a"
      },
      "execution_count": 1,
      "outputs": [
        {
          "output_type": "stream",
          "name": "stdout",
          "text": [
            "Collecting torch_geometric\n",
            "  Downloading torch_geometric-2.4.0-py3-none-any.whl (1.0 MB)\n",
            "\u001b[?25l     \u001b[90m━━━━━━━━━━━━━━━━━━━━━━━━━━━━━━━━━━━━━━━━\u001b[0m \u001b[32m0.0/1.0 MB\u001b[0m \u001b[31m?\u001b[0m eta \u001b[36m-:--:--\u001b[0m\r\u001b[2K     \u001b[91m━━━━━\u001b[0m\u001b[91m╸\u001b[0m\u001b[90m━━━━━━━━━━━━━━━━━━━━━━━━━━━━━━━━━━\u001b[0m \u001b[32m0.1/1.0 MB\u001b[0m \u001b[31m5.0 MB/s\u001b[0m eta \u001b[36m0:00:01\u001b[0m\r\u001b[2K     \u001b[90m━━━━━━━━━━━━━━━━━━━━━━━━━━━━━━━━━━━━━━━━\u001b[0m \u001b[32m1.0/1.0 MB\u001b[0m \u001b[31m19.2 MB/s\u001b[0m eta \u001b[36m0:00:00\u001b[0m\n",
            "\u001b[?25hRequirement already satisfied: tqdm in /usr/local/lib/python3.10/dist-packages (from torch_geometric) (4.66.1)\n",
            "Requirement already satisfied: numpy in /usr/local/lib/python3.10/dist-packages (from torch_geometric) (1.23.5)\n",
            "Requirement already satisfied: scipy in /usr/local/lib/python3.10/dist-packages (from torch_geometric) (1.11.3)\n",
            "Requirement already satisfied: jinja2 in /usr/local/lib/python3.10/dist-packages (from torch_geometric) (3.1.2)\n",
            "Requirement already satisfied: requests in /usr/local/lib/python3.10/dist-packages (from torch_geometric) (2.31.0)\n",
            "Requirement already satisfied: pyparsing in /usr/local/lib/python3.10/dist-packages (from torch_geometric) (3.1.1)\n",
            "Requirement already satisfied: scikit-learn in /usr/local/lib/python3.10/dist-packages (from torch_geometric) (1.2.2)\n",
            "Requirement already satisfied: psutil>=5.8.0 in /usr/local/lib/python3.10/dist-packages (from torch_geometric) (5.9.5)\n",
            "Requirement already satisfied: MarkupSafe>=2.0 in /usr/local/lib/python3.10/dist-packages (from jinja2->torch_geometric) (2.1.3)\n",
            "Requirement already satisfied: charset-normalizer<4,>=2 in /usr/local/lib/python3.10/dist-packages (from requests->torch_geometric) (3.3.2)\n",
            "Requirement already satisfied: idna<4,>=2.5 in /usr/local/lib/python3.10/dist-packages (from requests->torch_geometric) (3.4)\n",
            "Requirement already satisfied: urllib3<3,>=1.21.1 in /usr/local/lib/python3.10/dist-packages (from requests->torch_geometric) (2.0.7)\n",
            "Requirement already satisfied: certifi>=2017.4.17 in /usr/local/lib/python3.10/dist-packages (from requests->torch_geometric) (2023.7.22)\n",
            "Requirement already satisfied: joblib>=1.1.1 in /usr/local/lib/python3.10/dist-packages (from scikit-learn->torch_geometric) (1.3.2)\n",
            "Requirement already satisfied: threadpoolctl>=2.0.0 in /usr/local/lib/python3.10/dist-packages (from scikit-learn->torch_geometric) (3.2.0)\n",
            "Installing collected packages: torch_geometric\n",
            "Successfully installed torch_geometric-2.4.0\n",
            "Collecting rdkit\n",
            "  Downloading rdkit-2023.9.1-cp310-cp310-manylinux_2_17_x86_64.manylinux2014_x86_64.whl (30.5 MB)\n",
            "\u001b[2K     \u001b[90m━━━━━━━━━━━━━━━━━━━━━━━━━━━━━━━━━━━━━━━━\u001b[0m \u001b[32m30.5/30.5 MB\u001b[0m \u001b[31m59.3 MB/s\u001b[0m eta \u001b[36m0:00:00\u001b[0m\n",
            "\u001b[?25hRequirement already satisfied: numpy in /usr/local/lib/python3.10/dist-packages (from rdkit) (1.23.5)\n",
            "Requirement already satisfied: Pillow in /usr/local/lib/python3.10/dist-packages (from rdkit) (9.4.0)\n",
            "Installing collected packages: rdkit\n",
            "Successfully installed rdkit-2023.9.1\n"
          ]
        }
      ]
    },
    {
      "cell_type": "code",
      "source": [
        "# load QM9 dataset\n",
        "# documentation: https://pytorch-geometric.readthedocs.io/en/latest/generated/torch_geometric.datasets.QM9.html?highlight=qm9#torch_geometric.datasets.QM9\n",
        "\n",
        "from torch_geometric.datasets import QM9\n",
        "\n",
        "# TODO: figure out how to not download this from scratch each time\n",
        "dataset = QM9(root='./data/QM9/')"
      ],
      "metadata": {
        "colab": {
          "base_uri": "https://localhost:8080/"
        },
        "id": "28lCw7IWbeQ-",
        "outputId": "70e025bf-9713-470a-f7b6-49d664608ce2"
      },
      "execution_count": 3,
      "outputs": [
        {
          "output_type": "stream",
          "name": "stderr",
          "text": [
            "Downloading https://deepchemdata.s3-us-west-1.amazonaws.com/datasets/molnet_publish/qm9.zip\n",
            "Extracting data/QM9/raw/qm9.zip\n",
            "Downloading https://ndownloader.figshare.com/files/3195404\n",
            "Processing...\n",
            "100%|██████████| 133885/133885 [02:18<00:00, 969.06it/s] \n",
            "Done!\n"
          ]
        }
      ]
    },
    {
      "cell_type": "code",
      "source": [
        "# explore what one example looks like\n",
        "\n",
        "example = dataset[7]\n",
        "print(f\"{example['name']=}\")\n",
        "print(f\"{example.num_node_features=}\")\n",
        "print(f\"{example.x.shape=}\") # the shape of x is (??, num_node_features)\n",
        "print(f\"{example.y.shape=}\")\n",
        "example.__dict__"
      ],
      "metadata": {
        "colab": {
          "base_uri": "https://localhost:8080/"
        },
        "id": "nZDGe4rrdOKg",
        "outputId": "5999ac09-3901-4826-aa8a-6a573cf13242"
      },
      "execution_count": 6,
      "outputs": [
        {
          "output_type": "stream",
          "name": "stdout",
          "text": [
            "example['name']='gdb_8'\n",
            "example.num_node_features=11\n",
            "example.x.shape=torch.Size([6, 11])\n",
            "example.y.shape=torch.Size([1, 19])\n"
          ]
        },
        {
          "output_type": "execute_result",
          "data": {
            "text/plain": [
              "{'_edge_attr_cls': torch_geometric.data.data.DataEdgeAttr,\n",
              " '_tensor_attr_cls': torch_geometric.data.data.DataTensorAttr,\n",
              " '_store': {'x': tensor([[0., 1., 0., 0., 0., 6., 0., 0., 0., 0., 3.],\n",
              "         [0., 0., 0., 1., 0., 8., 0., 0., 0., 0., 1.],\n",
              "         [1., 0., 0., 0., 0., 1., 0., 0., 0., 0., 0.],\n",
              "         [1., 0., 0., 0., 0., 1., 0., 0., 0., 0., 0.],\n",
              "         [1., 0., 0., 0., 0., 1., 0., 0., 0., 0., 0.],\n",
              "         [1., 0., 0., 0., 0., 1., 0., 0., 0., 0., 0.]]), 'edge_index': tensor([[0, 0, 0, 0, 1, 1, 2, 3, 4, 5],\n",
              "         [1, 2, 3, 4, 0, 5, 0, 0, 0, 1]]), 'edge_attr': tensor([[1., 0., 0., 0.],\n",
              "         [1., 0., 0., 0.],\n",
              "         [1., 0., 0., 0.],\n",
              "         [1., 0., 0., 0.],\n",
              "         [1., 0., 0., 0.],\n",
              "         [1., 0., 0., 0.],\n",
              "         [1., 0., 0., 0.],\n",
              "         [1., 0., 0., 0.],\n",
              "         [1., 0., 0., 0.],\n",
              "         [1., 0., 0., 0.]]), 'y': tensor([[ 1.5258e+00,  1.6970e+01, -7.2192e+00,  2.1334e+00,  9.3526e+00,\n",
              "           8.3794e+01,  1.3934e+00, -3.1478e+03, -3.1477e+03, -3.1477e+03,\n",
              "          -3.1484e+03,  8.7510e+00, -2.0863e+01, -2.1004e+01, -2.1132e+01,\n",
              "          -1.9519e+01,  1.2783e+02,  2.4859e+01,  2.3979e+01]]), 'pos': tensor([[-0.0083,  1.3905, -0.0056],\n",
              "         [-0.0080, -0.0250,  0.0203],\n",
              "         [ 1.0066,  1.8156,  0.0035],\n",
              "         [-0.5466,  1.7992, -0.8739],\n",
              "         [-0.5229,  1.7256,  0.8991],\n",
              "         [ 0.4414, -0.3335, -0.7715]]), 'z': tensor([6, 8, 1, 1, 1, 1]), 'smiles': '[H]OC([H])([H])[H]', 'name': 'gdb_8', 'idx': tensor([7])}}"
            ]
          },
          "metadata": {},
          "execution_count": 6
        }
      ]
    },
    {
      "cell_type": "code",
      "source": [
        "# let's predict e_homo (energy of the highest occupied molecular orbital), but first let's extract the e_homo target from our example\n",
        "\n",
        "target_idx = 2\n",
        "example.y[:, target_idx]"
      ],
      "metadata": {
        "colab": {
          "base_uri": "https://localhost:8080/"
        },
        "id": "I70Oz6Y8in3I",
        "outputId": "a08d1449-7cb9-41fb-bb1f-662efd419e8c"
      },
      "execution_count": 7,
      "outputs": [
        {
          "output_type": "execute_result",
          "data": {
            "text/plain": [
              "tensor([-7.2192])"
            ]
          },
          "metadata": {},
          "execution_count": 7
        }
      ]
    },
    {
      "cell_type": "code",
      "source": [
        "# Now that we've identified what target feature we're gonna try to predict, let's examine the dataset as a whole so we can prepare to batch it\n",
        "\n",
        "print(f\"{len(dataset)=}\")"
      ],
      "metadata": {
        "colab": {
          "base_uri": "https://localhost:8080/"
        },
        "id": "1upu3moelQzs",
        "outputId": "23e5b734-0e2b-4950-c0de-1b440debbf68"
      },
      "execution_count": 8,
      "outputs": [
        {
          "output_type": "stream",
          "name": "stdout",
          "text": [
            "len(dataset)=130831\n"
          ]
        }
      ]
    },
    {
      "cell_type": "code",
      "source": [
        "# create a GCN w/ PyG\n",
        "# GCNConv documentation: https://pytorch-geometric.readthedocs.io/en/latest/generated/torch_geometric.nn.conv.GCNConv.html\n",
        "\n",
        "import torch\n",
        "import torch.nn.functional as F\n",
        "from torch_geometric.nn import GCNConv\n",
        "\n",
        "class GCN(torch.nn.Module):\n",
        "    def __init__(self):\n",
        "        super().__init__()\n",
        "        self.conv1 = GCNConv(dataset.num_node_features, 16)\n",
        "        self.conv2 = GCNConv(16, 1)\n",
        "\n",
        "    def forward(self, data):\n",
        "        x, edge_index = data.x, data.edge_index\n",
        "\n",
        "        x = self.conv1(x, edge_index)\n",
        "        x = F.relu(x)\n",
        "        x = F.dropout(x, training=self.training)\n",
        "        x = self.conv2(x, edge_index)\n",
        "        x = torch.mean(x)\n",
        "\n",
        "        return x"
      ],
      "metadata": {
        "id": "V3_TAv3ibkOn"
      },
      "execution_count": 4,
      "outputs": []
    },
    {
      "cell_type": "code",
      "source": [
        "device = torch.device('cuda' if torch.cuda.is_available() else 'cpu')\n",
        "model = GCN().to(device)\n",
        "optimizer = torch.optim.Adam(model.parameters(), lr=0.01, weight_decay=5e-4)\n",
        "\n",
        "progress_interval = 1000\n",
        "history = []"
      ],
      "metadata": {
        "id": "OxDlHmtAknn-"
      },
      "execution_count": 13,
      "outputs": []
    },
    {
      "cell_type": "code",
      "source": [
        "history = []\n",
        "interval_loss = 0\n",
        "model.train()\n",
        "for i, ex in enumerate(dataset):\n",
        "  ex.to(device)\n",
        "  optimizer.zero_grad()\n",
        "  out = model(ex)\n",
        "  target = ex.y[:, target_idx][0]\n",
        "  loss = F.mse_loss(out, target)\n",
        "  loss.backward()\n",
        "  optimizer.step()\n",
        "  interval_loss += loss\n",
        "  if i % progress_interval == 0:\n",
        "    interval_loss = torch.mean(interval_loss)\n",
        "    print(f\"{i}: {interval_loss.detach().item()}\")\n",
        "    history.append(interval_loss)\n",
        "    interval_loss = 0"
      ],
      "metadata": {
        "colab": {
          "base_uri": "https://localhost:8080/"
        },
        "id": "jRjY2tTqE63N",
        "outputId": "d5dc1969-de18-4fc9-bc48-746dca4cda3c"
      },
      "execution_count": 14,
      "outputs": [
        {
          "output_type": "stream",
          "name": "stdout",
          "text": [
            "0: 155.9081268310547\n",
            "1000: 1919.3687744140625\n",
            "2000: 749.4392700195312\n",
            "3000: 579.6038208007812\n",
            "4000: 551.2953491210938\n",
            "5000: 387.7484130859375\n",
            "6000: 392.8779296875\n",
            "7000: 253.24449157714844\n",
            "8000: 248.2297821044922\n",
            "9000: 281.3978271484375\n",
            "10000: 220.33372497558594\n",
            "11000: 206.29107666015625\n",
            "12000: 167.37429809570312\n",
            "13000: 147.98390197753906\n",
            "14000: 165.56829833984375\n",
            "15000: 166.5443878173828\n",
            "16000: 154.9215087890625\n",
            "17000: 155.74156188964844\n",
            "18000: 165.38563537597656\n",
            "19000: 184.5306854248047\n",
            "20000: 155.7921142578125\n",
            "21000: 446.1719055175781\n",
            "22000: 447.6114196777344\n",
            "23000: 241.64541625976562\n",
            "24000: 405.6269226074219\n",
            "25000: 480.2321472167969\n",
            "26000: 354.6628112792969\n",
            "27000: 406.5538635253906\n",
            "28000: 385.2294006347656\n",
            "29000: 406.4471130371094\n",
            "30000: 368.4708251953125\n",
            "31000: 445.06939697265625\n",
            "32000: 403.6418151855469\n",
            "33000: 374.6795959472656\n",
            "34000: 199.38172912597656\n",
            "35000: 200.796875\n",
            "36000: 217.29165649414062\n",
            "37000: 163.4990234375\n",
            "38000: 125.77611541748047\n",
            "39000: 124.80870056152344\n",
            "40000: 131.34730529785156\n",
            "41000: 122.54668426513672\n",
            "42000: 245.4791717529297\n",
            "43000: 179.99932861328125\n",
            "44000: 156.88035583496094\n",
            "45000: 210.2410888671875\n",
            "46000: 200.91831970214844\n",
            "47000: 173.0399169921875\n",
            "48000: 110.63745880126953\n",
            "49000: 129.60617065429688\n",
            "50000: 123.49735260009766\n",
            "51000: 137.22003173828125\n",
            "52000: 122.78936767578125\n",
            "53000: 113.64974975585938\n",
            "54000: 211.48544311523438\n",
            "55000: 193.96664428710938\n",
            "56000: 189.38677978515625\n",
            "57000: 215.2523956298828\n",
            "58000: 196.56053161621094\n",
            "59000: 191.9583740234375\n",
            "60000: 214.306640625\n",
            "61000: 163.83897399902344\n",
            "62000: 153.97030639648438\n",
            "63000: 146.5774688720703\n",
            "64000: 152.03187561035156\n",
            "65000: 157.61199951171875\n",
            "66000: 110.73641204833984\n",
            "67000: 142.21287536621094\n",
            "68000: 132.4773406982422\n",
            "69000: 118.83738708496094\n",
            "70000: 123.51667785644531\n",
            "71000: 131.98892211914062\n",
            "72000: 111.05057525634766\n",
            "73000: 197.3619384765625\n",
            "74000: 116.6103744506836\n",
            "75000: 188.68960571289062\n",
            "76000: 161.16078186035156\n",
            "77000: 180.94764709472656\n",
            "78000: 161.61854553222656\n",
            "79000: 162.5103759765625\n",
            "80000: 212.471435546875\n",
            "81000: 148.96871948242188\n",
            "82000: 156.9358673095703\n",
            "83000: 178.8116912841797\n",
            "84000: 192.3309783935547\n",
            "85000: 196.27761840820312\n",
            "86000: 146.6721649169922\n",
            "87000: 143.31858825683594\n",
            "88000: 180.87362670898438\n",
            "89000: 153.57044982910156\n",
            "90000: 150.1824188232422\n",
            "91000: 168.83180236816406\n",
            "92000: 207.88656616210938\n",
            "93000: 182.1826171875\n",
            "94000: 155.11546325683594\n",
            "95000: 157.7454833984375\n",
            "96000: 154.61007690429688\n",
            "97000: 167.25746154785156\n",
            "98000: 217.8685302734375\n",
            "99000: 208.31118774414062\n",
            "100000: 176.06240844726562\n",
            "101000: 192.4142608642578\n",
            "102000: 155.13201904296875\n",
            "103000: 152.0277099609375\n",
            "104000: 217.3138885498047\n",
            "105000: 144.70465087890625\n",
            "106000: 165.44918823242188\n",
            "107000: 154.92262268066406\n",
            "108000: 152.26956176757812\n",
            "109000: 165.9739990234375\n",
            "110000: 131.85861206054688\n",
            "111000: 202.03602600097656\n",
            "112000: 225.20668029785156\n",
            "113000: 140.4757843017578\n",
            "114000: 154.0341796875\n",
            "115000: 152.5930633544922\n",
            "116000: 179.7108917236328\n",
            "117000: 155.64051818847656\n",
            "118000: 163.04495239257812\n",
            "119000: 140.17787170410156\n",
            "120000: 162.184326171875\n",
            "121000: 158.589599609375\n",
            "122000: 355.33648681640625\n",
            "123000: 399.59783935546875\n",
            "124000: 456.9361572265625\n",
            "125000: 480.3985290527344\n",
            "126000: 463.2690124511719\n",
            "127000: 451.9076232910156\n",
            "128000: 337.1943359375\n",
            "129000: 323.0816955566406\n",
            "130000: 469.1519775390625\n"
          ]
        }
      ]
    },
    {
      "cell_type": "code",
      "source": [
        "import matplotlib.pyplot as plt\n",
        "import numpy as np\n",
        "\n",
        "if not isinstance(history[0], np.ndarray):\n",
        "  # move interval loss tensors to CPU if not already\n",
        "  history = [elem.cpu().detach().numpy() for elem in history]\n",
        "x = np.arange(0, progress_interval * len(history), progress_interval)\n",
        "plt.plot(x, history)\n",
        "plt.yscale('log')\n",
        "plt.ylabel(\"Training Loss\")\n",
        "plt.xlabel(\"Examples\")"
      ],
      "metadata": {
        "colab": {
          "base_uri": "https://localhost:8080/",
          "height": 467
        },
        "id": "b21yHHL_HBad",
        "outputId": "fb8afd28-67ef-458a-aa82-4aa5e1216160"
      },
      "execution_count": 24,
      "outputs": [
        {
          "output_type": "execute_result",
          "data": {
            "text/plain": [
              "Text(0.5, 0, 'Examples')"
            ]
          },
          "metadata": {},
          "execution_count": 24
        },
        {
          "output_type": "display_data",
          "data": {
            "text/plain": [
              "<Figure size 640x480 with 1 Axes>"
            ],
            "image/png": "[encoded data removed]"
          },
          "metadata": {}
        }
      ]
    },
    {
      "cell_type": "code",
      "source": [],
      "metadata": {
        "id": "AFs-lSbHIMCE"
      },
      "execution_count": null,
      "outputs": []
    }
  ]
}